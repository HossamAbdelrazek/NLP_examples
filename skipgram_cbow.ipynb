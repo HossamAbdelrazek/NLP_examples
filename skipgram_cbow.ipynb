{
 "cells": [
  {
   "cell_type": "code",
   "execution_count": 2,
   "id": "8ccfade7",
   "metadata": {},
   "outputs": [
    {
     "name": "stdout",
     "output_type": "stream",
     "text": [
      "[==================================================] 100.0% 128.1/128.1MB downloaded\n"
     ]
    }
   ],
   "source": [
    "import gensim.downloader as api\n",
    "model = api.load(\"glove-wiki-gigaword-100\")"
   ]
  },
  {
   "cell_type": "code",
   "execution_count": 7,
   "id": "ae387642",
   "metadata": {},
   "outputs": [
    {
     "name": "stdout",
     "output_type": "stream",
     "text": [
      "Vector for 'plane': [-0.17734   0.087777  0.98841   0.35233  -0.26526  -0.063809  0.56626\n",
      "  0.5134    0.19312   0.42294   0.72456   0.36008   0.79759   0.60293\n",
      " -0.13241  -0.51952  -0.11703   0.40415   0.60104  -0.13692   0.35928\n",
      "  0.14545   0.30955  -0.577     0.53611  -0.068949 -0.63115   0.56656\n",
      "  0.52825  -0.32035  -0.39062   0.22046  -0.49169   0.82654  -0.03174\n",
      "  0.47229   0.83108   0.50744   1.0723    0.58748  -1.3401   -0.53337\n",
      "  0.4127    0.16365   0.21366   0.64945  -0.11447   0.21287  -0.12928\n",
      "  0.099559  0.22982   0.84685   0.18374   1.5696    0.3509   -1.5499\n",
      " -0.42958   0.74726   2.7579    0.5511   -0.10046   1.0071    0.38431\n",
      " -0.038176 -0.46169  -0.045803 -0.52773   0.14521  -1.0011    0.70828\n",
      " -1.0246   -1.2559    0.3094   -0.25474   0.83718   0.086453  0.65181\n",
      "  0.17889  -0.92974   0.58163  -0.33763   0.10116  -0.21006  -0.49969\n",
      " -0.52854  -0.84119   0.8655   -0.22472  -0.77615  -0.30406   0.10961\n",
      "  0.086479  0.26616  -0.075754 -0.30605   0.44104  -0.11136  -0.17363\n",
      "  0.029951 -1.223   ]\n",
      "Top 5 words similar to 'plane': [('airplane', 0.8651753067970276), ('flight', 0.8215627670288086), ('jet', 0.8195890784263611), ('crashed', 0.8078024387359619), ('crash', 0.7928350567817688)]\n"
     ]
    }
   ],
   "source": [
    "#skip-gram\n",
    "word0 = \"plane\"\n",
    "vec0 = model.get_vector(word0)\n",
    "print(f\"Vector for '{word0}':\", vec0)\n",
    "top5 = model.most_similar(positive=[word0], topn=5)\n",
    "print(f\"Top 5 words similar to '{word0}':\", top5)"
   ]
  },
  {
   "cell_type": "code",
   "execution_count": 23,
   "id": "c66d5596",
   "metadata": {},
   "outputs": [
    {
     "name": "stdout",
     "output_type": "stream",
     "text": [
      "Context vector for 'boy', 'plays', 'with', 'the', 'dog': [ 6.6468991e-02  2.2574849e-01  7.2108495e-01 -6.4382499e-01\n",
      " -9.1476999e-02  7.8950572e-01  6.2990040e-03  1.6938750e-01\n",
      " -5.5182076e-01 -1.6153851e-01 -1.5670875e-01 -2.1505749e-01\n",
      "  4.1062999e-01  3.1976750e-01  1.5190999e-01  4.3402499e-01\n",
      "  5.8650255e-01 -2.9087749e-01 -9.4063058e-02  5.3133553e-01\n",
      "  2.0208275e-01 -8.9197516e-02  1.6101700e-01 -2.6548475e-01\n",
      "  6.1635751e-01  2.5127000e-01 -6.2268019e-01 -7.4417251e-01\n",
      " -1.6735056e-03  5.4030997e-01 -3.6439550e-01  7.6655251e-01\n",
      "  3.2432777e-01  2.8072274e-01  3.3153048e-01  1.7561576e-01\n",
      " -1.4513499e-01  2.7423277e-01  2.4081752e-01 -2.3083951e-01\n",
      " -2.8024998e-02 -2.3457250e-01  1.1821100e-01 -3.9560002e-01\n",
      " -1.0213755e-02  2.1749124e-01 -3.2475752e-01 -2.3562773e-01\n",
      "  1.5630499e-01 -4.7255450e-01 -3.4774372e-01  6.8090752e-02\n",
      "  1.7343149e-01  1.5094275e+00 -1.9680750e-01 -2.9252751e+00\n",
      " -2.7711976e-01 -9.6973740e-02  1.2193050e+00  7.9620802e-01\n",
      "  2.9232150e-01  1.2085825e+00 -1.3859975e-01  1.4815000e-01\n",
      "  7.0976126e-01  1.7106076e-01  5.1882124e-01  4.1028249e-01\n",
      "  1.1389700e-01  2.7612752e-01 -1.5162700e-01 -1.9037876e-01\n",
      " -2.5056757e-02 -1.3620749e-01  3.1290099e-01  4.3521747e-01\n",
      " -2.6525500e-01 -1.5020776e-01 -8.3714497e-01 -1.0728913e-01\n",
      "  7.0792753e-01  3.3042750e-01 -2.0316476e-01  1.3118224e-01\n",
      " -1.5817500e+00 -4.6060923e-01 -1.9429919e-01 -5.9387997e-02\n",
      "  1.0989750e-01 -2.8375098e-01 -6.1436251e-02 -1.3519753e-02\n",
      " -2.7875501e-01  4.0011698e-01 -5.2437252e-01 -2.2663000e-01\n",
      " -8.2515496e-01 -1.9929750e-01  7.0210248e-01 -1.9788352e-01]\n",
      "Most similar word to the context vector is: (one) with similarity 0.8497362732887268\n"
     ]
    }
   ],
   "source": [
    "#CBOW\n",
    "word1 = \"boy\"\n",
    "word2 = \"plays\"\n",
    "word3 = \"with\"\n",
    "word4 = \"the\"\n",
    "word5 = \"dog\"\n",
    "# predicting the word \"trip\" from the context words\n",
    "vec1 = model.get_vector(word1)\n",
    "vec2 = model.get_vector(word2)\n",
    "vec3 = model.get_vector(word3)\n",
    "vec4 = model.get_vector(word4)\n",
    "vec5 = model.get_vector(word5)\n",
    "# CBOW: average the context vectors\n",
    "context_vector = (vec1 + vec2 + vec3 + vec4 + vec5) / 4\n",
    "print(f\"Context vector for '{word1}', '{word2}', '{word3}', '{word4}', '{word5}':\", context_vector)\n",
    "# find the most similar word to the context vector\n",
    "similar_word = model.most_similar(context_vector, topn=1)\n",
    "print(f\"Most similar word to the context vector is: ({similar_word[0][0]}) with similarity {similar_word[0][1]}\")"
   ]
  },
  {
   "cell_type": "code",
   "execution_count": null,
   "id": "3d804d1e",
   "metadata": {},
   "outputs": [],
   "source": []
  }
 ],
 "metadata": {
  "kernelspec": {
   "display_name": "mlcv",
   "language": "python",
   "name": "python3"
  },
  "language_info": {
   "codemirror_mode": {
    "name": "ipython",
    "version": 3
   },
   "file_extension": ".py",
   "mimetype": "text/x-python",
   "name": "python",
   "nbconvert_exporter": "python",
   "pygments_lexer": "ipython3",
   "version": "3.10.17"
  }
 },
 "nbformat": 4,
 "nbformat_minor": 5
}
